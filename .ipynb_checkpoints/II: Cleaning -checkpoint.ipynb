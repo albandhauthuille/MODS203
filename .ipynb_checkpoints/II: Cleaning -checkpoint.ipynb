{
 "cells": [
  {
   "cell_type": "markdown",
   "id": "cc37b6f3",
   "metadata": {},
   "source": [
    "### Data Description\n",
    "\n",
    "\n",
    "*Research question*\n",
    "\n",
    "We are studying projects on the platform gofundme and the diverse factors that lead a project to be found. In our data set, we have extract the name, the date of the project, the description, the category, the pourcentage raised, the number of donors etc… \n",
    "\n",
    "Here are the questions we want to answer : \n",
    "- Does the category have an influence on the founding ? \n",
    "- Does the  pourcentage raised intuitively increase with time ? \n",
    "- Do Keywords in the description make a project more attractive ? \n",
    "- Does the donation per user influence the foundation ?\n"
   ]
  },
  {
   "cell_type": "markdown",
   "id": "10170de8",
   "metadata": {},
   "source": [
    "### Useful imports \n"
   ]
  },
  {
   "cell_type": "code",
   "execution_count": 33,
   "id": "8b910d53-e7bd-4d1d-8b86-e7192c04f458",
   "metadata": {
    "scrolled": false
   },
   "outputs": [],
   "source": [
    "import pandas as pd\n",
    "\n",
    "import numpy as np\n",
    "\n",
    "import matplotlib.pyplot as plt\n",
    "\n",
    "import matplotlib as mpl\n",
    "\n",
    "pd.options.display.max_columns = 500"
   ]
  },
  {
   "cell_type": "markdown",
   "id": "04f690ab",
   "metadata": {},
   "source": [
    "# CLEANING THE DATAFRAME SCRAPED"
   ]
  },
  {
   "cell_type": "code",
   "execution_count": 34,
   "id": "4d37a153",
   "metadata": {},
   "outputs": [],
   "source": [
    "df=pd.read_csv('DataFinalfromWebScraping2.csv')"
   ]
  },
  {
   "cell_type": "markdown",
   "id": "5b19e862",
   "metadata": {},
   "source": [
    "### II.1/We transform Creation Date to a datetime </b>\n",
    "\n",
    "For this we will tokenize the str sentence Creation Date, create a dictionary for month and transform Created 2 days ago in 2022-01-14 for example with the function Convertdate. \n",
    "\n",
    "Then, we transform it in a proper DateTime"
   ]
  },
  {
   "cell_type": "code",
   "execution_count": 35,
   "id": "36003848",
   "metadata": {
    "scrolled": false
   },
   "outputs": [
    {
     "name": "stderr",
     "output_type": "stream",
     "text": [
      "[nltk_data] Downloading package punkt to\n",
      "[nltk_data]     /Users/albandhauthuille/nltk_data...\n",
      "[nltk_data]   Package punkt is already up-to-date!\n"
     ]
    }
   ],
   "source": [
    "from datetime import date\n",
    "\n",
    "#We use nltk to tokenize the str of Creation Date\n",
    "import nltk\n",
    "nltk.download('punkt')\n",
    "from nltk.tokenize import word_tokenize\n"
   ]
  },
  {
   "cell_type": "code",
   "execution_count": 36,
   "id": "c9ec5c46",
   "metadata": {
    "scrolled": false
   },
   "outputs": [],
   "source": [
    "def monthToNum(shortMonth):\n",
    "    return {\n",
    "            'January': 1,\n",
    "            'February': 2,\n",
    "            'March': 3,\n",
    "            'April': 4,\n",
    "            'May': 5,\n",
    "            'June': 6,\n",
    "            'July': 7,\n",
    "            'August': 8,\n",
    "            'September': 9, \n",
    "            'October': 10,\n",
    "            'November': 11,\n",
    "            'December': 12\n",
    "    }[shortMonth]"
   ]
  },
  {
   "cell_type": "code",
   "execution_count": 37,
   "id": "43efa7a3",
   "metadata": {
    "scrolled": false
   },
   "outputs": [],
   "source": [
    "def Convertdate():\n",
    "\n",
    "    new_Date=[]\n",
    "    #print(new_Date)\n",
    "    for i in range (df['Creation Date'].size):\n",
    "        #print(i)\n",
    "        Creation_date = word_tokenize(df['Creation Date'][i])\n",
    "        #print(Creation_date)\n",
    "        \n",
    "        if 'now'in Creation_date or 'hours' in Creation_date:\n",
    "            new_Date.append(str(str(2022)+'-'+'01'+'-'+str(24)))\n",
    "        elif 'ago' not in Creation_date: \n",
    "            #print('no')\n",
    "            new_Date.append(str(Creation_date[4])+'-'+str(monthToNum(Creation_date[1]))+'-'+str(Creation_date[2]))\n",
    "        \n",
    "            \n",
    "        elif 'ago' in Creation_date: \n",
    "            new_Date.append(str(str(2022)+'-'+'01'+'-'+str(24-int(Creation_date[1]))))\n",
    "    return new_Date"
   ]
  },
  {
   "cell_type": "code",
   "execution_count": 38,
   "id": "c60ce391",
   "metadata": {
    "scrolled": false
   },
   "outputs": [],
   "source": [
    "df['Creation Date']=Convertdate()"
   ]
  },
  {
   "cell_type": "code",
   "execution_count": 39,
   "id": "8c424cbd",
   "metadata": {
    "scrolled": true
   },
   "outputs": [],
   "source": [
    "pd.to_datetime(df['Creation Date'])\n",
    "df['Creation Date']=pd.to_datetime(df['Creation Date'])\n"
   ]
  },
  {
   "cell_type": "markdown",
   "id": "abcf6e06",
   "metadata": {},
   "source": [
    "### II.2/ Retiring the '%' of Pourcentage Raised to plot properly"
   ]
  },
  {
   "cell_type": "code",
   "execution_count": 40,
   "id": "bcbb91c6",
   "metadata": {
    "scrolled": false
   },
   "outputs": [],
   "source": [
    "pd.options.mode.chained_assignment = None  # default='warn'\n",
    "for i in range(len(df['Pourcentage Raised'])):\n",
    "    df['Pourcentage Raised'][i]=df['Pourcentage Raised'][i][:-1]"
   ]
  },
  {
   "cell_type": "code",
   "execution_count": 41,
   "id": "810312ce",
   "metadata": {
    "scrolled": true
   },
   "outputs": [
    {
     "data": {
      "text/plain": [
       "'1.0'"
      ]
     },
     "execution_count": 41,
     "metadata": {},
     "output_type": "execute_result"
    }
   ],
   "source": [
    "#For example:\n",
    "df['Pourcentage Raised'][4]"
   ]
  },
  {
   "cell_type": "markdown",
   "id": "1f3572fa",
   "metadata": {},
   "source": [
    "### II.3/ Convert to proper type"
   ]
  },
  {
   "cell_type": "code",
   "execution_count": 42,
   "id": "5e769243",
   "metadata": {
    "scrolled": false
   },
   "outputs": [],
   "source": [
    "df=df.convert_dtypes()\n"
   ]
  },
  {
   "cell_type": "code",
   "execution_count": 43,
   "id": "f755eac5",
   "metadata": {
    "scrolled": false
   },
   "outputs": [],
   "source": [
    "df['Pourcentage Raised']=df['Pourcentage Raised'].astype(float)"
   ]
  },
  {
   "cell_type": "markdown",
   "id": "f7021b23",
   "metadata": {},
   "source": [
    "### II.4/ Duration of a collect with 'Creation Date'\n"
   ]
  },
  {
   "cell_type": "code",
   "execution_count": 44,
   "id": "a7a6ca4c",
   "metadata": {
    "scrolled": true
   },
   "outputs": [],
   "source": [
    "Duration =[]\n",
    "for i in range(len(df['Creation Date'])):\n",
    "    Duration.append((pd.Timestamp.today()-df['Creation Date'][i]).days)\n",
    "df[\"Duration in days\"]=Duration"
   ]
  },
  {
   "cell_type": "markdown",
   "id": "711bc33d",
   "metadata": {},
   "source": [
    "### II.5/ We only study the keywords, we reduce the 'Description' to 'Short_description' with words of length >4"
   ]
  },
  {
   "cell_type": "code",
   "execution_count": 45,
   "id": "acc9edba",
   "metadata": {
    "scrolled": false
   },
   "outputs": [],
   "source": [
    "Short_description=[]\n",
    "for i in range(len(df['Description'])):\n",
    "    list=[]\n",
    "    a=word_tokenize(df['Description'][i])\n",
    "    for word in a:\n",
    "        if len(word)>4:\n",
    "            list.append(word)\n",
    "    Short_description.append(list)\n",
    "\n",
    "df['Short_description']=Short_description\n",
    "#df"
   ]
  },
  {
   "cell_type": "markdown",
   "id": "23ebdc1a",
   "metadata": {},
   "source": [
    "### II.6.1/ Creation of column 'Amount Collected'"
   ]
  },
  {
   "cell_type": "code",
   "execution_count": 46,
   "id": "547c7e59",
   "metadata": {
    "scrolled": true
   },
   "outputs": [],
   "source": [
    "Amount_Collected=[]\n",
    "#print(df)\n",
    "for i in range(len(df['collect'])):\n",
    "    #word=(df['collect'][i])[1:]\n",
    "    word=word_tokenize(df['collect'][i][1:])\n",
    "    #If the amount is about millions:\n",
    "    \n",
    "    if 'M' in word[0]: \n",
    "        Amount_Collected.append(float(word[0].replace(',', '.')[:-1])*1000000)\n",
    "    #print(word)\n",
    "    else:\n",
    "        if ',' in word[0]:\n",
    "            Amount_Collected.append(float(word[0].replace(',', '.'))*1000)\n",
    "        else:\n",
    "            Amount_Collected.append(float(word[0].replace(',', '.')))\n",
    "            \n",
    "df['Amount collected ']=Amount_Collected"
   ]
  },
  {
   "cell_type": "markdown",
   "id": "e1f8ceca",
   "metadata": {},
   "source": [
    "### II.6.2/ Creation of Column 'Amount targeted'"
   ]
  },
  {
   "cell_type": "code",
   "execution_count": 47,
   "id": "07eb056e",
   "metadata": {
    "scrolled": true
   },
   "outputs": [],
   "source": [
    "Amount_Targeted=[]\n",
    "for i in range(len(df['collect'])):\n",
    "    word=word_tokenize(df['collect'][i])\n",
    "    #print(word)\n",
    "    #If the amount is about millions:\n",
    "    if 'M' in word[-1]: \n",
    "        Amount_Targeted.append(float(((word[-1].replace('M', '')).replace('€','')).replace('£',''))*1000000)\n",
    "    #print(word)\n",
    "    elif 'B' in word[-1]: \n",
    "        Amount_Targeted.append(float(((word[-1].replace('B', '')).replace('€','')).replace('£',''))*1000000000)\n",
    "    else:\n",
    "        if ',' in word[-1]:\n",
    "            Amount_Targeted.append(float(((word[-1].replace(',', '.')).replace('€','')).replace('£',''))*1000)\n",
    "        else:\n",
    "            Amount_Targeted.append(float(((word[-1].replace(',', '.')).replace('€','')).replace('£','')))\n",
    "            \n",
    "#len(Amount_Targeted)\n",
    "df['Amount targeted']=Amount_Targeted"
   ]
  },
  {
   "cell_type": "markdown",
   "id": "91e1f3c4",
   "metadata": {
    "scrolled": true
   },
   "source": [
    "### II.7/ MeanDonation"
   ]
  },
  {
   "cell_type": "code",
   "execution_count": 48,
   "id": "07433bd8",
   "metadata": {
    "scrolled": false
   },
   "outputs": [],
   "source": [
    "MeanDonation =[]\n",
    "for i in range(len(df['NumberDonors'])):\n",
    "    if df['NumberDonors'][i]>0:\n",
    "        MeanDonation.append((df['Amount collected '][i])/(df['NumberDonors'][i]))\n",
    "    else : MeanDonation.append(0)\n",
    "df['MeanDonation']=MeanDonation\n"
   ]
  },
  {
   "cell_type": "markdown",
   "id": "be501ff7",
   "metadata": {},
   "source": [
    "### II.8/ Categories and conversion to numeric to plot and corr properly"
   ]
  },
  {
   "cell_type": "code",
   "execution_count": 49,
   "id": "597cfdf6",
   "metadata": {
    "scrolled": true
   },
   "outputs": [],
   "source": [
    "catégorie = [\"Medical, Illness & Healing\", \"Funerals & Memorials\", \"Accidents & Emergencies\",\"Non-Profits & Charities\",\"Education & Learning\", \"Animals & Pets\", \"Environment\", \"Business & Entrepreneurs\",\"Community & Neighbors\", \"Competitions & Pageants\",\"Creative Arts, Music & Film\", \"Celebrations & Events\",\"Missions, Faith & Church\", \"Babies, Kids & Family\", \"Sports, Teams & Clubs\", \"Travel & Adventure\",\"Volunteer & Service\", \"Dreams, Hopes & Wishes\", \"Other\"]\n",
    "#print(catégorie)"
   ]
  },
  {
   "cell_type": "code",
   "execution_count": 50,
   "id": "9670e9e7",
   "metadata": {
    "scrolled": true
   },
   "outputs": [],
   "source": [
    "df['categoryNumeric'] = pd.factorize(df['Categorie'])[0] + 1\n",
    "df['townNumeric'] = pd.factorize(df['town'])[0] + 1"
   ]
  },
  {
   "cell_type": "markdown",
   "id": "ee08fc99",
   "metadata": {},
   "source": [
    "### II.9/ Creation of a column  'Size', which is the amount targeted:\n",
    "    "
   ]
  },
  {
   "cell_type": "code",
   "execution_count": 51,
   "id": "efdd7b09",
   "metadata": {},
   "outputs": [
    {
     "data": {
      "text/html": [
       "<div>\n",
       "<style scoped>\n",
       "    .dataframe tbody tr th:only-of-type {\n",
       "        vertical-align: middle;\n",
       "    }\n",
       "\n",
       "    .dataframe tbody tr th {\n",
       "        vertical-align: top;\n",
       "    }\n",
       "\n",
       "    .dataframe thead th {\n",
       "        text-align: right;\n",
       "    }\n",
       "</style>\n",
       "<table border=\"1\" class=\"dataframe\">\n",
       "  <thead>\n",
       "    <tr style=\"text-align: right;\">\n",
       "      <th></th>\n",
       "      <th>Unnamed: 0</th>\n",
       "      <th>Pourcentage Raised</th>\n",
       "      <th>NumberDonors</th>\n",
       "      <th>Duration in days</th>\n",
       "      <th>Amount collected</th>\n",
       "      <th>Amount targeted</th>\n",
       "      <th>MeanDonation</th>\n",
       "      <th>categoryNumeric</th>\n",
       "      <th>townNumeric</th>\n",
       "    </tr>\n",
       "  </thead>\n",
       "  <tbody>\n",
       "    <tr>\n",
       "      <th>count</th>\n",
       "      <td>1728.000000</td>\n",
       "      <td>1728.00000</td>\n",
       "      <td>1728.000000</td>\n",
       "      <td>1728.00000</td>\n",
       "      <td>1.728000e+03</td>\n",
       "      <td>1.728000e+03</td>\n",
       "      <td>1728.000000</td>\n",
       "      <td>1728.000000</td>\n",
       "      <td>1728.000000</td>\n",
       "    </tr>\n",
       "    <tr>\n",
       "      <th>mean</th>\n",
       "      <td>863.500000</td>\n",
       "      <td>22.10787</td>\n",
       "      <td>85.384259</td>\n",
       "      <td>61.33044</td>\n",
       "      <td>7.450310e+03</td>\n",
       "      <td>3.493280e+06</td>\n",
       "      <td>39.468118</td>\n",
       "      <td>9.498264</td>\n",
       "      <td>309.004051</td>\n",
       "    </tr>\n",
       "    <tr>\n",
       "      <th>std</th>\n",
       "      <td>498.974949</td>\n",
       "      <td>32.37733</td>\n",
       "      <td>1174.531989</td>\n",
       "      <td>69.87727</td>\n",
       "      <td>9.808869e+04</td>\n",
       "      <td>5.711015e+07</td>\n",
       "      <td>102.427454</td>\n",
       "      <td>5.191972</td>\n",
       "      <td>278.631818</td>\n",
       "    </tr>\n",
       "    <tr>\n",
       "      <th>min</th>\n",
       "      <td>0.000000</td>\n",
       "      <td>1.00000</td>\n",
       "      <td>0.000000</td>\n",
       "      <td>6.00000</td>\n",
       "      <td>0.000000e+00</td>\n",
       "      <td>1.000000e+00</td>\n",
       "      <td>0.000000</td>\n",
       "      <td>1.000000</td>\n",
       "      <td>1.000000</td>\n",
       "    </tr>\n",
       "    <tr>\n",
       "      <th>25%</th>\n",
       "      <td>431.750000</td>\n",
       "      <td>1.00000</td>\n",
       "      <td>0.000000</td>\n",
       "      <td>17.00000</td>\n",
       "      <td>0.000000e+00</td>\n",
       "      <td>1.000000e+03</td>\n",
       "      <td>0.000000</td>\n",
       "      <td>5.000000</td>\n",
       "      <td>41.750000</td>\n",
       "    </tr>\n",
       "    <tr>\n",
       "      <th>50%</th>\n",
       "      <td>863.500000</td>\n",
       "      <td>2.95000</td>\n",
       "      <td>3.000000</td>\n",
       "      <td>42.00000</td>\n",
       "      <td>9.000000e+01</td>\n",
       "      <td>3.000000e+03</td>\n",
       "      <td>20.000000</td>\n",
       "      <td>9.500000</td>\n",
       "      <td>227.000000</td>\n",
       "    </tr>\n",
       "    <tr>\n",
       "      <th>75%</th>\n",
       "      <td>1295.250000</td>\n",
       "      <td>30.45000</td>\n",
       "      <td>16.000000</td>\n",
       "      <td>73.00000</td>\n",
       "      <td>6.887500e+02</td>\n",
       "      <td>1.000000e+04</td>\n",
       "      <td>46.666667</td>\n",
       "      <td>14.000000</td>\n",
       "      <td>530.250000</td>\n",
       "    </tr>\n",
       "    <tr>\n",
       "      <th>max</th>\n",
       "      <td>1727.000000</td>\n",
       "      <td>100.00000</td>\n",
       "      <td>44392.000000</td>\n",
       "      <td>371.00000</td>\n",
       "      <td>3.300000e+06</td>\n",
       "      <td>1.000000e+09</td>\n",
       "      <td>2950.962963</td>\n",
       "      <td>18.000000</td>\n",
       "      <td>911.000000</td>\n",
       "    </tr>\n",
       "  </tbody>\n",
       "</table>\n",
       "</div>"
      ],
      "text/plain": [
       "        Unnamed: 0  Pourcentage Raised  NumberDonors  Duration in days  \\\n",
       "count  1728.000000          1728.00000   1728.000000        1728.00000   \n",
       "mean    863.500000            22.10787     85.384259          61.33044   \n",
       "std     498.974949            32.37733   1174.531989          69.87727   \n",
       "min       0.000000             1.00000      0.000000           6.00000   \n",
       "25%     431.750000             1.00000      0.000000          17.00000   \n",
       "50%     863.500000             2.95000      3.000000          42.00000   \n",
       "75%    1295.250000            30.45000     16.000000          73.00000   \n",
       "max    1727.000000           100.00000  44392.000000         371.00000   \n",
       "\n",
       "       Amount collected   Amount targeted  MeanDonation  categoryNumeric  \\\n",
       "count       1.728000e+03     1.728000e+03   1728.000000      1728.000000   \n",
       "mean        7.450310e+03     3.493280e+06     39.468118         9.498264   \n",
       "std         9.808869e+04     5.711015e+07    102.427454         5.191972   \n",
       "min         0.000000e+00     1.000000e+00      0.000000         1.000000   \n",
       "25%         0.000000e+00     1.000000e+03      0.000000         5.000000   \n",
       "50%         9.000000e+01     3.000000e+03     20.000000         9.500000   \n",
       "75%         6.887500e+02     1.000000e+04     46.666667        14.000000   \n",
       "max         3.300000e+06     1.000000e+09   2950.962963        18.000000   \n",
       "\n",
       "       townNumeric  \n",
       "count  1728.000000  \n",
       "mean    309.004051  \n",
       "std     278.631818  \n",
       "min       1.000000  \n",
       "25%      41.750000  \n",
       "50%     227.000000  \n",
       "75%     530.250000  \n",
       "max     911.000000  "
      ]
     },
     "execution_count": 51,
     "metadata": {},
     "output_type": "execute_result"
    }
   ],
   "source": [
    "df.describe()"
   ]
  },
  {
   "cell_type": "code",
   "execution_count": 52,
   "id": "63101f19",
   "metadata": {},
   "outputs": [],
   "source": [
    "size=[]\n",
    "for collect in df['Amount targeted']:\n",
    "    if collect < 1000:\n",
    "        size.append(1)\n",
    "    elif collect <3000:\n",
    "        size.append(2)\n",
    "    elif collect <10000:\n",
    "        size.append(3)\n",
    "    elif collect<50000: \n",
    "        size.append(4)\n",
    "    else:\n",
    "        size.append(5)\n",
    "    \n",
    "df['size']=size\n"
   ]
  },
  {
   "cell_type": "code",
   "execution_count": 53,
   "id": "6fed1f7b",
   "metadata": {},
   "outputs": [
    {
     "data": {
      "text/plain": [
       "(-11.055207994754944,\n",
       " 11.002629001859779,\n",
       " -11.205109463409114,\n",
       " 11.10265207950565)"
      ]
     },
     "execution_count": 53,
     "metadata": {},
     "output_type": "execute_result"
    },
    {
     "data": {
      "image/png": "[encoded data removed]",
      "text/plain": [
       "<Figure size 432x288 with 1 Axes>"
      ]
     },
     "metadata": {},
     "output_type": "display_data"
    }
   ],
   "source": [
    "fig1, ax1 = plt.subplots()\n",
    "mpl.rcParams['font.size'] = 14.0\n",
    "ax1.pie(df[\"size\"].value_counts(),radius = 10, labels = [\"size 1=[0,1k]\", \"size 2=[1,3k]\", \"size 3=[3,10k]\" ,\"size 4=[10k,50k]\",'size 5 > 50k'], autopct='%1.1f%%', textprops=dict(color=\"black\"))\n",
    "plt.title(\"Proportion of each size of Amount targeted\", color=\"black\")\n",
    "ax1.axis('equal')\n",
    "\n"
   ]
  },
  {
   "cell_type": "markdown",
   "id": "64a2326a",
   "metadata": {},
   "source": [
    "### II.10/ We drop useless columns"
   ]
  },
  {
   "cell_type": "code",
   "execution_count": 54,
   "id": "fd89e785",
   "metadata": {
    "scrolled": true
   },
   "outputs": [],
   "source": [
    "df.drop(['Unnamed: 0', 'title', 'collect','Description'], axis=1, inplace=True)\n"
   ]
  },
  {
   "cell_type": "markdown",
   "id": "38ff831a",
   "metadata": {},
   "source": [
    "### II.11/ We drop the 4th quartile for eacht category which contains the highest, and sometimes fake, values "
   ]
  },
  {
   "cell_type": "code",
   "execution_count": 58,
   "id": "452f3d84",
   "metadata": {},
   "outputs": [],
   "source": [
    "df3=df.loc[df['Categorie']==catégorie[-1]]\n",
    "df3=df3.loc[df3['Amount targeted']<df3['Amount targeted'].describe()[6]]\n",
    "for i in range(len(catégorie)-1,-1,-1):\n",
    "    df2=df.loc[df['Categorie']==catégorie[i]]\n",
    "\n",
    "    #drop 4th quartile of highest values\n",
    "    df2=df2.loc[df2['Amount targeted']<df2['Amount targeted'].describe()[6]]\n",
    "    df3= pd.concat([df2,df3])\n",
    "df=df3.reset_index(drop=True)\n"
   ]
  },
  {
   "cell_type": "markdown",
   "id": "49c7a653",
   "metadata": {},
   "source": [
    "### II.12/ Export cleaned DF for Analyse "
   ]
  },
  {
   "cell_type": "code",
   "execution_count": 59,
   "id": "a0b37c1b",
   "metadata": {
    "scrolled": false
   },
   "outputs": [
    {
     "data": {
      "text/html": [
       "<div>\n",
       "<style scoped>\n",
       "    .dataframe tbody tr th:only-of-type {\n",
       "        vertical-align: middle;\n",
       "    }\n",
       "\n",
       "    .dataframe tbody tr th {\n",
       "        vertical-align: top;\n",
       "    }\n",
       "\n",
       "    .dataframe thead th {\n",
       "        text-align: right;\n",
       "    }\n",
       "</style>\n",
       "<table border=\"1\" class=\"dataframe\">\n",
       "  <thead>\n",
       "    <tr style=\"text-align: right;\">\n",
       "      <th></th>\n",
       "      <th>Pourcentage Raised</th>\n",
       "      <th>NumberDonors</th>\n",
       "      <th>Duration in days</th>\n",
       "      <th>Amount collected</th>\n",
       "      <th>Amount targeted</th>\n",
       "      <th>MeanDonation</th>\n",
       "      <th>categoryNumeric</th>\n",
       "      <th>townNumeric</th>\n",
       "      <th>size</th>\n",
       "    </tr>\n",
       "  </thead>\n",
       "  <tbody>\n",
       "    <tr>\n",
       "      <th>count</th>\n",
       "      <td>880.000000</td>\n",
       "      <td>880.000000</td>\n",
       "      <td>880.000000</td>\n",
       "      <td>880.000000</td>\n",
       "      <td>880.000000</td>\n",
       "      <td>880.000000</td>\n",
       "      <td>880.000000</td>\n",
       "      <td>880.000000</td>\n",
       "      <td>880.000000</td>\n",
       "    </tr>\n",
       "    <tr>\n",
       "      <th>mean</th>\n",
       "      <td>17.601477</td>\n",
       "      <td>10.357955</td>\n",
       "      <td>58.423864</td>\n",
       "      <td>493.996591</td>\n",
       "      <td>2647.798864</td>\n",
       "      <td>21.940188</td>\n",
       "      <td>9.095455</td>\n",
       "      <td>299.055682</td>\n",
       "      <td>2.014773</td>\n",
       "    </tr>\n",
       "    <tr>\n",
       "      <th>std</th>\n",
       "      <td>28.310597</td>\n",
       "      <td>33.392421</td>\n",
       "      <td>68.824412</td>\n",
       "      <td>1797.250918</td>\n",
       "      <td>3736.577235</td>\n",
       "      <td>32.148600</td>\n",
       "      <td>5.106375</td>\n",
       "      <td>268.450130</td>\n",
       "      <td>0.895449</td>\n",
       "    </tr>\n",
       "    <tr>\n",
       "      <th>min</th>\n",
       "      <td>1.000000</td>\n",
       "      <td>0.000000</td>\n",
       "      <td>6.000000</td>\n",
       "      <td>0.000000</td>\n",
       "      <td>1.000000</td>\n",
       "      <td>0.000000</td>\n",
       "      <td>1.000000</td>\n",
       "      <td>1.000000</td>\n",
       "      <td>1.000000</td>\n",
       "    </tr>\n",
       "    <tr>\n",
       "      <th>25%</th>\n",
       "      <td>1.000000</td>\n",
       "      <td>0.000000</td>\n",
       "      <td>15.000000</td>\n",
       "      <td>0.000000</td>\n",
       "      <td>500.000000</td>\n",
       "      <td>0.000000</td>\n",
       "      <td>5.000000</td>\n",
       "      <td>48.000000</td>\n",
       "      <td>1.000000</td>\n",
       "    </tr>\n",
       "    <tr>\n",
       "      <th>50%</th>\n",
       "      <td>1.700000</td>\n",
       "      <td>1.000000</td>\n",
       "      <td>36.000000</td>\n",
       "      <td>20.000000</td>\n",
       "      <td>1500.000000</td>\n",
       "      <td>14.083333</td>\n",
       "      <td>9.000000</td>\n",
       "      <td>242.000000</td>\n",
       "      <td>2.000000</td>\n",
       "    </tr>\n",
       "    <tr>\n",
       "      <th>75%</th>\n",
       "      <td>22.275000</td>\n",
       "      <td>8.000000</td>\n",
       "      <td>72.000000</td>\n",
       "      <td>220.000000</td>\n",
       "      <td>3000.000000</td>\n",
       "      <td>30.479167</td>\n",
       "      <td>13.000000</td>\n",
       "      <td>505.000000</td>\n",
       "      <td>3.000000</td>\n",
       "    </tr>\n",
       "    <tr>\n",
       "      <th>max</th>\n",
       "      <td>100.000000</td>\n",
       "      <td>494.000000</td>\n",
       "      <td>371.000000</td>\n",
       "      <td>19145.000000</td>\n",
       "      <td>25000.000000</td>\n",
       "      <td>297.063492</td>\n",
       "      <td>18.000000</td>\n",
       "      <td>911.000000</td>\n",
       "      <td>4.000000</td>\n",
       "    </tr>\n",
       "  </tbody>\n",
       "</table>\n",
       "</div>"
      ],
      "text/plain": [
       "       Pourcentage Raised  NumberDonors  Duration in days  Amount collected   \\\n",
       "count          880.000000    880.000000        880.000000         880.000000   \n",
       "mean            17.601477     10.357955         58.423864         493.996591   \n",
       "std             28.310597     33.392421         68.824412        1797.250918   \n",
       "min              1.000000      0.000000          6.000000           0.000000   \n",
       "25%              1.000000      0.000000         15.000000           0.000000   \n",
       "50%              1.700000      1.000000         36.000000          20.000000   \n",
       "75%             22.275000      8.000000         72.000000         220.000000   \n",
       "max            100.000000    494.000000        371.000000       19145.000000   \n",
       "\n",
       "       Amount targeted  MeanDonation  categoryNumeric  townNumeric        size  \n",
       "count       880.000000    880.000000       880.000000   880.000000  880.000000  \n",
       "mean       2647.798864     21.940188         9.095455   299.055682    2.014773  \n",
       "std        3736.577235     32.148600         5.106375   268.450130    0.895449  \n",
       "min           1.000000      0.000000         1.000000     1.000000    1.000000  \n",
       "25%         500.000000      0.000000         5.000000    48.000000    1.000000  \n",
       "50%        1500.000000     14.083333         9.000000   242.000000    2.000000  \n",
       "75%        3000.000000     30.479167        13.000000   505.000000    3.000000  \n",
       "max       25000.000000    297.063492        18.000000   911.000000    4.000000  "
      ]
     },
     "execution_count": 59,
     "metadata": {},
     "output_type": "execute_result"
    }
   ],
   "source": [
    "df.to_csv('datacleaned.csv')\n",
    "df.describe()"
   ]
  },
  {
   "cell_type": "code",
   "execution_count": null,
   "id": "5f3952dc",
   "metadata": {},
   "outputs": [],
   "source": []
  }
 ],
 "metadata": {
  "celltoolbar": "Aucun(e)",
  "kernelspec": {
   "display_name": "Python 3",
   "language": "python",
   "name": "python3"
  },
  "language_info": {
   "codemirror_mode": {
    "name": "ipython",
    "version": 3
   },
   "file_extension": ".py",
   "mimetype": "text/x-python",
   "name": "python",
   "nbconvert_exporter": "python",
   "pygments_lexer": "ipython3",
   "version": "3.8.8"
  }
 },
 "nbformat": 4,
 "nbformat_minor": 5
}
