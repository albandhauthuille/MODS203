{
 "cells": [
  {
   "cell_type": "markdown",
   "id": "cc37b6f3",
   "metadata": {},
   "source": [
    "### Data Description\n",
    "\n",
    "\n",
    "*Research question*\n",
    "\n",
    "We are studying projects on the platform gofundme and the diverse factors that lead a project to be found. In our data set, we have extract the name, the date of the project, the description, the category, the pourcentage raised, the number of donors etc… \n",
    "\n",
    "Here are the questions we want to answer : \n",
    "- Does the category have an influence on the founding ? \n",
    "- Does the  pourcentage raised intuitively increase with time ? \n",
    "- Do Keywords in the description make a project more attractive ? \n",
    "- Does the donation per user influence the foundation ?\n"
   ]
  },
  {
   "cell_type": "markdown",
   "id": "10170de8",
   "metadata": {},
   "source": [
    "### Useful imports \n"
   ]
  },
  {
   "cell_type": "code",
   "execution_count": 240,
   "id": "8b910d53-e7bd-4d1d-8b86-e7192c04f458",
   "metadata": {
    "scrolled": false
   },
   "outputs": [],
   "source": [
    "import pandas as pd\n",
    "\n",
    "import numpy as np\n",
    "\n",
    "import matplotlib.pyplot as plt\n",
    "\n",
    "import matplotlib as mpl\n",
    "\n",
    "pd.options.display.max_columns = 500"
   ]
  },
  {
   "cell_type": "markdown",
   "id": "04f690ab",
   "metadata": {},
   "source": [
    "# CLEANING THE DATAFRAME SCRAPED"
   ]
  },
  {
   "cell_type": "code",
   "execution_count": 241,
   "id": "4d37a153",
   "metadata": {},
   "outputs": [],
   "source": [
    "df=pd.read_csv('DataFinalfromWebScraping2.csv')"
   ]
  },
  {
   "cell_type": "markdown",
   "id": "5b19e862",
   "metadata": {},
   "source": [
    "### II.1/We transform Creation Date to a datetime </b>\n",
    "\n",
    "For this we will tokenize the str sentence Creation Date, create a dictionary for month and transform Created 2 days ago in 2022-01-14 for example with the function Convertdate. \n",
    "\n",
    "Then, we transform it in a proper DateTime"
   ]
  },
  {
   "cell_type": "code",
   "execution_count": 242,
   "id": "36003848",
   "metadata": {
    "scrolled": false
   },
   "outputs": [
    {
     "name": "stderr",
     "output_type": "stream",
     "text": [
      "[nltk_data] Downloading package punkt to\n",
      "[nltk_data]     /Users/albandhauthuille/nltk_data...\n",
      "[nltk_data]   Package punkt is already up-to-date!\n"
     ]
    }
   ],
   "source": [
    "from datetime import date\n",
    "\n",
    "#We use nltk to tokenize the str of Creation Date\n",
    "import nltk\n",
    "nltk.download('punkt')\n",
    "from nltk.tokenize import word_tokenize\n"
   ]
  },
  {
   "cell_type": "code",
   "execution_count": 243,
   "id": "c9ec5c46",
   "metadata": {
    "scrolled": false
   },
   "outputs": [],
   "source": [
    "def monthToNum(shortMonth):\n",
    "    return {\n",
    "            'January': 1,\n",
    "            'February': 2,\n",
    "            'March': 3,\n",
    "            'April': 4,\n",
    "            'May': 5,\n",
    "            'June': 6,\n",
    "            'July': 7,\n",
    "            'August': 8,\n",
    "            'September': 9, \n",
    "            'October': 10,\n",
    "            'November': 11,\n",
    "            'December': 12\n",
    "    }[shortMonth]"
   ]
  },
  {
   "cell_type": "code",
   "execution_count": 244,
   "id": "43efa7a3",
   "metadata": {
    "scrolled": false
   },
   "outputs": [],
   "source": [
    "def Convertdate():\n",
    "\n",
    "    new_Date=[]\n",
    "    #print(new_Date)\n",
    "    for i in range (df['Creation Date'].size):\n",
    "        #print(i)\n",
    "        Creation_date = word_tokenize(df['Creation Date'][i])\n",
    "        #print(Creation_date)\n",
    "        \n",
    "        if 'now'in Creation_date or 'hours' in Creation_date:\n",
    "            new_Date.append(str(str(2022)+'-'+'01'+'-'+str(24)))\n",
    "        elif 'ago' not in Creation_date: \n",
    "            #print('no')\n",
    "            new_Date.append(str(Creation_date[4])+'-'+str(monthToNum(Creation_date[1]))+'-'+str(Creation_date[2]))\n",
    "        \n",
    "            \n",
    "        elif 'ago' in Creation_date: \n",
    "            new_Date.append(str(str(2022)+'-'+'01'+'-'+str(24-int(Creation_date[1]))))\n",
    "    return new_Date"
   ]
  },
  {
   "cell_type": "code",
   "execution_count": 245,
   "id": "c60ce391",
   "metadata": {
    "scrolled": false
   },
   "outputs": [],
   "source": [
    "df['Creation Date']=Convertdate()"
   ]
  },
  {
   "cell_type": "code",
   "execution_count": 246,
   "id": "8c424cbd",
   "metadata": {
    "scrolled": true
   },
   "outputs": [],
   "source": [
    "pd.to_datetime(df['Creation Date'])\n",
    "df['Creation Date']=pd.to_datetime(df['Creation Date'])\n"
   ]
  },
  {
   "cell_type": "markdown",
   "id": "abcf6e06",
   "metadata": {},
   "source": [
    "### II.2/ Retiring the '%' of Pourcentage Raised to plot properly"
   ]
  },
  {
   "cell_type": "code",
   "execution_count": 247,
   "id": "bcbb91c6",
   "metadata": {
    "scrolled": false
   },
   "outputs": [],
   "source": [
    "pd.options.mode.chained_assignment = None  # default='warn'\n",
    "for i in range(len(df['Pourcentage Raised'])):\n",
    "    df['Pourcentage Raised'][i]=df['Pourcentage Raised'][i][:-1]"
   ]
  },
  {
   "cell_type": "code",
   "execution_count": 248,
   "id": "810312ce",
   "metadata": {
    "scrolled": true
   },
   "outputs": [
    {
     "data": {
      "text/plain": [
       "'48.9'"
      ]
     },
     "execution_count": 248,
     "metadata": {},
     "output_type": "execute_result"
    }
   ],
   "source": [
    "#For example:\n",
    "df['Pourcentage Raised'][4]"
   ]
  },
  {
   "cell_type": "markdown",
   "id": "1f3572fa",
   "metadata": {},
   "source": [
    "### II.3/ Convert to proper type"
   ]
  },
  {
   "cell_type": "code",
   "execution_count": 249,
   "id": "5e769243",
   "metadata": {
    "scrolled": false
   },
   "outputs": [],
   "source": [
    "df=df.convert_dtypes()\n"
   ]
  },
  {
   "cell_type": "code",
   "execution_count": 250,
   "id": "f755eac5",
   "metadata": {
    "scrolled": false
   },
   "outputs": [],
   "source": [
    "df['Pourcentage Raised']=df['Pourcentage Raised'].astype(float)"
   ]
  },
  {
   "cell_type": "markdown",
   "id": "f7021b23",
   "metadata": {},
   "source": [
    "### II.4/ Duration of a collect with 'Creation Date'\n"
   ]
  },
  {
   "cell_type": "code",
   "execution_count": 251,
   "id": "a7a6ca4c",
   "metadata": {
    "scrolled": true
   },
   "outputs": [],
   "source": [
    "Duration =[]\n",
    "for i in range(len(df['Creation Date'])):\n",
    "    Duration.append((pd.Timestamp.today()-df['Creation Date'][i]).days)\n",
    "df[\"Duration in days\"]=Duration"
   ]
  },
  {
   "cell_type": "markdown",
   "id": "711bc33d",
   "metadata": {},
   "source": [
    "### II.5/ We only study the keywords, we reduce the 'Description' to 'Short_description' with words of length >4"
   ]
  },
  {
   "cell_type": "code",
   "execution_count": 252,
   "id": "acc9edba",
   "metadata": {
    "scrolled": false
   },
   "outputs": [],
   "source": [
    "Short_description=[]\n",
    "for i in range(len(df['Description'])):\n",
    "    list=[]\n",
    "    a=word_tokenize(df['Description'][i])\n",
    "    for word in a:\n",
    "        if len(word)>4:\n",
    "            list.append(word)\n",
    "    Short_description.append(list)\n",
    "\n",
    "df['Short_description']=Short_description\n",
    "#df"
   ]
  },
  {
   "cell_type": "markdown",
   "id": "23ebdc1a",
   "metadata": {},
   "source": [
    "### II.6.1/ Creation of column 'Amount Collected'"
   ]
  },
  {
   "cell_type": "code",
   "execution_count": 253,
   "id": "547c7e59",
   "metadata": {
    "scrolled": true
   },
   "outputs": [],
   "source": [
    "Amount_Collected=[]\n",
    "#print(df)\n",
    "for i in range(len(df['collect'])):\n",
    "    #word=(df['collect'][i])[1:]\n",
    "    word=word_tokenize(df['collect'][i][1:])\n",
    "    #If the amount is about millions:\n",
    "    \n",
    "    if 'M' in word[0]: \n",
    "        Amount_Collected.append(float(word[0].replace(',', '.')[:-1])*1000000)\n",
    "    #print(word)\n",
    "    else:\n",
    "        if ',' in word[0]:\n",
    "            Amount_Collected.append(float(word[0].replace(',', '.'))*1000)\n",
    "        else:\n",
    "            Amount_Collected.append(float(word[0].replace(',', '.')))\n",
    "            \n",
    "df['Amount collected ']=Amount_Collected"
   ]
  },
  {
   "cell_type": "markdown",
   "id": "e1f8ceca",
   "metadata": {},
   "source": [
    "### II.6.2/ Creation of Column 'Amount targeted'"
   ]
  },
  {
   "cell_type": "code",
   "execution_count": 254,
   "id": "07eb056e",
   "metadata": {
    "scrolled": true
   },
   "outputs": [],
   "source": [
    "Amount_Targeted=[]\n",
    "for i in range(len(df['collect'])):\n",
    "    word=word_tokenize(df['collect'][i])\n",
    "    #print(word)\n",
    "    #If the amount is about millions:\n",
    "    if 'M' in word[-1]: \n",
    "        Amount_Targeted.append(float(((word[-1].replace('M', '')).replace('€','')).replace('£',''))*1000000)\n",
    "    #print(word)\n",
    "    elif 'B' in word[-1]: \n",
    "        Amount_Targeted.append(float(((word[-1].replace('B', '')).replace('€','')).replace('£',''))*1000000000)\n",
    "    else:\n",
    "        if ',' in word[-1]:\n",
    "            Amount_Targeted.append(float(((word[-1].replace(',', '.')).replace('€','')).replace('£',''))*1000)\n",
    "        else:\n",
    "            Amount_Targeted.append(float(((word[-1].replace(',', '.')).replace('€','')).replace('£','')))\n",
    "            \n",
    "#len(Amount_Targeted)\n",
    "df['Amount targeted']=Amount_Targeted"
   ]
  },
  {
   "cell_type": "markdown",
   "id": "91e1f3c4",
   "metadata": {
    "scrolled": true
   },
   "source": [
    "### II.7/ MeanDonation"
   ]
  },
  {
   "cell_type": "code",
   "execution_count": 255,
   "id": "07433bd8",
   "metadata": {
    "scrolled": false
   },
   "outputs": [],
   "source": [
    "MeanDonation =[]\n",
    "for i in range(len(df['NumberDonors'])):\n",
    "    if df['NumberDonors'][i]>0:\n",
    "        MeanDonation.append((df['Amount collected '][i])/(df['NumberDonors'][i]))\n",
    "    else : MeanDonation.append(0)\n",
    "df['MeanDonation']=MeanDonation\n"
   ]
  },
  {
   "cell_type": "markdown",
   "id": "be501ff7",
   "metadata": {},
   "source": [
    "### II.8/ USELESS, WE WILL USE PD.DUMMY LATER Categories and conversion to numeric to plot and corr properly"
   ]
  },
  {
   "cell_type": "code",
   "execution_count": 256,
   "id": "597cfdf6",
   "metadata": {
    "scrolled": true
   },
   "outputs": [],
   "source": [
    "catégorie = [\"Medical, Illness & Healing\", \"Funerals & Memorials\", \"Accidents & Emergencies\",\"Non-Profits & Charities\",\"Education & Learning\", \"Animals & Pets\", \"Environment\", \"Business & Entrepreneurs\",\"Community & Neighbors\", \"Competitions & Pageants\",\"Creative Arts, Music & Film\", \"Celebrations & Events\",\"Missions, Faith & Church\", \"Babies, Kids & Family\", \"Sports, Teams & Clubs\", \"Travel & Adventure\",\"Volunteer & Service\", \"Dreams, Hopes & Wishes\", \"Other\"]\n",
    "#print(catégorie)"
   ]
  },
  {
   "cell_type": "code",
   "execution_count": 257,
   "id": "9670e9e7",
   "metadata": {
    "scrolled": true
   },
   "outputs": [],
   "source": [
    "df['categoryNumeric'] = pd.factorize(df['Categorie'])[0] + 1\n",
    "df['townNumeric'] = pd.factorize(df['town'])[0] + 1"
   ]
  },
  {
   "cell_type": "markdown",
   "id": "ee08fc99",
   "metadata": {},
   "source": [
    "### II.9/ Creation of a column  'Size', which is the amount targeted:\n",
    "    "
   ]
  },
  {
   "cell_type": "code",
   "execution_count": 258,
   "id": "efdd7b09",
   "metadata": {},
   "outputs": [
    {
     "data": {
      "text/html": [
       "<div>\n",
       "<style scoped>\n",
       "    .dataframe tbody tr th:only-of-type {\n",
       "        vertical-align: middle;\n",
       "    }\n",
       "\n",
       "    .dataframe tbody tr th {\n",
       "        vertical-align: top;\n",
       "    }\n",
       "\n",
       "    .dataframe thead th {\n",
       "        text-align: right;\n",
       "    }\n",
       "</style>\n",
       "<table border=\"1\" class=\"dataframe\">\n",
       "  <thead>\n",
       "    <tr style=\"text-align: right;\">\n",
       "      <th></th>\n",
       "      <th>Unnamed: 0</th>\n",
       "      <th>Pourcentage Raised</th>\n",
       "      <th>NumberDonors</th>\n",
       "      <th>Duration in days</th>\n",
       "      <th>Amount collected</th>\n",
       "      <th>Amount targeted</th>\n",
       "      <th>MeanDonation</th>\n",
       "      <th>categoryNumeric</th>\n",
       "      <th>townNumeric</th>\n",
       "    </tr>\n",
       "  </thead>\n",
       "  <tbody>\n",
       "    <tr>\n",
       "      <th>count</th>\n",
       "      <td>1716.000000</td>\n",
       "      <td>1716.000000</td>\n",
       "      <td>1716.000000</td>\n",
       "      <td>1716.000000</td>\n",
       "      <td>1.716000e+03</td>\n",
       "      <td>1.716000e+03</td>\n",
       "      <td>1716.000000</td>\n",
       "      <td>1716.000000</td>\n",
       "      <td>1716.000000</td>\n",
       "    </tr>\n",
       "    <tr>\n",
       "      <th>mean</th>\n",
       "      <td>857.500000</td>\n",
       "      <td>21.832692</td>\n",
       "      <td>67.204545</td>\n",
       "      <td>55.474359</td>\n",
       "      <td>5.585660e+03</td>\n",
       "      <td>4.186040e+06</td>\n",
       "      <td>37.041797</td>\n",
       "      <td>9.488345</td>\n",
       "      <td>302.850233</td>\n",
       "    </tr>\n",
       "    <tr>\n",
       "      <th>std</th>\n",
       "      <td>495.510848</td>\n",
       "      <td>32.015606</td>\n",
       "      <td>599.646314</td>\n",
       "      <td>66.171206</td>\n",
       "      <td>6.057841e+04</td>\n",
       "      <td>6.220077e+07</td>\n",
       "      <td>74.725592</td>\n",
       "      <td>5.208021</td>\n",
       "      <td>274.721746</td>\n",
       "    </tr>\n",
       "    <tr>\n",
       "      <th>min</th>\n",
       "      <td>0.000000</td>\n",
       "      <td>1.000000</td>\n",
       "      <td>0.000000</td>\n",
       "      <td>7.000000</td>\n",
       "      <td>0.000000e+00</td>\n",
       "      <td>1.000000e+00</td>\n",
       "      <td>0.000000</td>\n",
       "      <td>1.000000</td>\n",
       "      <td>1.000000</td>\n",
       "    </tr>\n",
       "    <tr>\n",
       "      <th>25%</th>\n",
       "      <td>428.750000</td>\n",
       "      <td>1.000000</td>\n",
       "      <td>0.000000</td>\n",
       "      <td>13.000000</td>\n",
       "      <td>0.000000e+00</td>\n",
       "      <td>1.000000e+03</td>\n",
       "      <td>0.000000</td>\n",
       "      <td>5.000000</td>\n",
       "      <td>39.000000</td>\n",
       "    </tr>\n",
       "    <tr>\n",
       "      <th>50%</th>\n",
       "      <td>857.500000</td>\n",
       "      <td>2.900000</td>\n",
       "      <td>3.000000</td>\n",
       "      <td>35.000000</td>\n",
       "      <td>9.000000e+01</td>\n",
       "      <td>3.000000e+03</td>\n",
       "      <td>20.000000</td>\n",
       "      <td>9.000000</td>\n",
       "      <td>229.000000</td>\n",
       "    </tr>\n",
       "    <tr>\n",
       "      <th>75%</th>\n",
       "      <td>1286.250000</td>\n",
       "      <td>30.425000</td>\n",
       "      <td>17.000000</td>\n",
       "      <td>66.000000</td>\n",
       "      <td>7.100000e+02</td>\n",
       "      <td>1.000000e+04</td>\n",
       "      <td>46.570513</td>\n",
       "      <td>14.000000</td>\n",
       "      <td>523.000000</td>\n",
       "    </tr>\n",
       "    <tr>\n",
       "      <th>max</th>\n",
       "      <td>1715.000000</td>\n",
       "      <td>100.000000</td>\n",
       "      <td>15155.000000</td>\n",
       "      <td>362.000000</td>\n",
       "      <td>1.600000e+06</td>\n",
       "      <td>1.000000e+09</td>\n",
       "      <td>1677.666667</td>\n",
       "      <td>18.000000</td>\n",
       "      <td>896.000000</td>\n",
       "    </tr>\n",
       "  </tbody>\n",
       "</table>\n",
       "</div>"
      ],
      "text/plain": [
       "        Unnamed: 0  Pourcentage Raised  NumberDonors  Duration in days  \\\n",
       "count  1716.000000         1716.000000   1716.000000       1716.000000   \n",
       "mean    857.500000           21.832692     67.204545         55.474359   \n",
       "std     495.510848           32.015606    599.646314         66.171206   \n",
       "min       0.000000            1.000000      0.000000          7.000000   \n",
       "25%     428.750000            1.000000      0.000000         13.000000   \n",
       "50%     857.500000            2.900000      3.000000         35.000000   \n",
       "75%    1286.250000           30.425000     17.000000         66.000000   \n",
       "max    1715.000000          100.000000  15155.000000        362.000000   \n",
       "\n",
       "       Amount collected   Amount targeted  MeanDonation  categoryNumeric  \\\n",
       "count       1.716000e+03     1.716000e+03   1716.000000      1716.000000   \n",
       "mean        5.585660e+03     4.186040e+06     37.041797         9.488345   \n",
       "std         6.057841e+04     6.220077e+07     74.725592         5.208021   \n",
       "min         0.000000e+00     1.000000e+00      0.000000         1.000000   \n",
       "25%         0.000000e+00     1.000000e+03      0.000000         5.000000   \n",
       "50%         9.000000e+01     3.000000e+03     20.000000         9.000000   \n",
       "75%         7.100000e+02     1.000000e+04     46.570513        14.000000   \n",
       "max         1.600000e+06     1.000000e+09   1677.666667        18.000000   \n",
       "\n",
       "       townNumeric  \n",
       "count  1716.000000  \n",
       "mean    302.850233  \n",
       "std     274.721746  \n",
       "min       1.000000  \n",
       "25%      39.000000  \n",
       "50%     229.000000  \n",
       "75%     523.000000  \n",
       "max     896.000000  "
      ]
     },
     "execution_count": 258,
     "metadata": {},
     "output_type": "execute_result"
    }
   ],
   "source": [
    "df.describe()"
   ]
  },
  {
   "cell_type": "code",
   "execution_count": 259,
   "id": "63101f19",
   "metadata": {},
   "outputs": [],
   "source": [
    "size=[]\n",
    "for collect in df['Amount targeted']:\n",
    "    if collect < 1000:\n",
    "        size.append(1)\n",
    "    elif collect <3000:\n",
    "        size.append(2)\n",
    "    elif collect <10000:\n",
    "        size.append(3)\n",
    "    elif collect<50000: \n",
    "        size.append(4)\n",
    "    else:\n",
    "        size.append(5)\n",
    "    \n",
    "df['size']=size\n"
   ]
  },
  {
   "cell_type": "code",
   "execution_count": 260,
   "id": "6fed1f7b",
   "metadata": {},
   "outputs": [
    {
     "data": {
      "text/plain": [
       "(-11.20262517464513,\n",
       " 11.009648817840244,\n",
       " -11.192278294352544,\n",
       " 11.100470177477085)"
      ]
     },
     "execution_count": 260,
     "metadata": {},
     "output_type": "execute_result"
    },
    {
     "data": {
      "image/png": "[encoded data removed]",
      "text/plain": [
       "<Figure size 432x288 with 1 Axes>"
      ]
     },
     "metadata": {},
     "output_type": "display_data"
    }
   ],
   "source": [
    "fig1, ax1 = plt.subplots()\n",
    "mpl.rcParams['font.size'] = 14.0\n",
    "ax1.pie(df[\"size\"].value_counts(),radius = 10, labels = [\"size 1=[0,1k]\", \"size 2=[1,3k]\", \"size 3=[3,10k]\" ,\"size 4=[10k,50k]\",'size 5 > 50k'], autopct='%1.1f%%', textprops=dict(color=\"black\"))\n",
    "plt.title(\"Proportion of each size of Amount targeted\", color=\"black\")\n",
    "ax1.axis('equal')\n",
    "\n"
   ]
  },
  {
   "cell_type": "markdown",
   "id": "64a2326a",
   "metadata": {},
   "source": [
    "### II.10/ We drop useless columns"
   ]
  },
  {
   "cell_type": "code",
   "execution_count": 261,
   "id": "fd89e785",
   "metadata": {
    "scrolled": true
   },
   "outputs": [
    {
     "data": {
      "text/html": [
       "<div>\n",
       "<style scoped>\n",
       "    .dataframe tbody tr th:only-of-type {\n",
       "        vertical-align: middle;\n",
       "    }\n",
       "\n",
       "    .dataframe tbody tr th {\n",
       "        vertical-align: top;\n",
       "    }\n",
       "\n",
       "    .dataframe thead th {\n",
       "        text-align: right;\n",
       "    }\n",
       "</style>\n",
       "<table border=\"1\" class=\"dataframe\">\n",
       "  <thead>\n",
       "    <tr style=\"text-align: right;\">\n",
       "      <th></th>\n",
       "      <th>Pourcentage Raised</th>\n",
       "      <th>NumberDonors</th>\n",
       "      <th>Duration in days</th>\n",
       "      <th>Amount collected</th>\n",
       "      <th>Amount targeted</th>\n",
       "      <th>MeanDonation</th>\n",
       "      <th>categoryNumeric</th>\n",
       "      <th>townNumeric</th>\n",
       "      <th>size</th>\n",
       "    </tr>\n",
       "  </thead>\n",
       "  <tbody>\n",
       "    <tr>\n",
       "      <th>count</th>\n",
       "      <td>1716.000000</td>\n",
       "      <td>1716.000000</td>\n",
       "      <td>1716.000000</td>\n",
       "      <td>1.716000e+03</td>\n",
       "      <td>1.716000e+03</td>\n",
       "      <td>1716.000000</td>\n",
       "      <td>1716.000000</td>\n",
       "      <td>1716.000000</td>\n",
       "      <td>1716.000000</td>\n",
       "    </tr>\n",
       "    <tr>\n",
       "      <th>mean</th>\n",
       "      <td>21.832692</td>\n",
       "      <td>67.204545</td>\n",
       "      <td>55.474359</td>\n",
       "      <td>5.585660e+03</td>\n",
       "      <td>4.186040e+06</td>\n",
       "      <td>37.041797</td>\n",
       "      <td>9.488345</td>\n",
       "      <td>302.850233</td>\n",
       "      <td>2.685897</td>\n",
       "    </tr>\n",
       "    <tr>\n",
       "      <th>std</th>\n",
       "      <td>32.015606</td>\n",
       "      <td>599.646314</td>\n",
       "      <td>66.171206</td>\n",
       "      <td>6.057841e+04</td>\n",
       "      <td>6.220077e+07</td>\n",
       "      <td>74.725592</td>\n",
       "      <td>5.208021</td>\n",
       "      <td>274.721746</td>\n",
       "      <td>1.251401</td>\n",
       "    </tr>\n",
       "    <tr>\n",
       "      <th>min</th>\n",
       "      <td>1.000000</td>\n",
       "      <td>0.000000</td>\n",
       "      <td>7.000000</td>\n",
       "      <td>0.000000e+00</td>\n",
       "      <td>1.000000e+00</td>\n",
       "      <td>0.000000</td>\n",
       "      <td>1.000000</td>\n",
       "      <td>1.000000</td>\n",
       "      <td>1.000000</td>\n",
       "    </tr>\n",
       "    <tr>\n",
       "      <th>25%</th>\n",
       "      <td>1.000000</td>\n",
       "      <td>0.000000</td>\n",
       "      <td>13.000000</td>\n",
       "      <td>0.000000e+00</td>\n",
       "      <td>1.000000e+03</td>\n",
       "      <td>0.000000</td>\n",
       "      <td>5.000000</td>\n",
       "      <td>39.000000</td>\n",
       "      <td>2.000000</td>\n",
       "    </tr>\n",
       "    <tr>\n",
       "      <th>50%</th>\n",
       "      <td>2.900000</td>\n",
       "      <td>3.000000</td>\n",
       "      <td>35.000000</td>\n",
       "      <td>9.000000e+01</td>\n",
       "      <td>3.000000e+03</td>\n",
       "      <td>20.000000</td>\n",
       "      <td>9.000000</td>\n",
       "      <td>229.000000</td>\n",
       "      <td>3.000000</td>\n",
       "    </tr>\n",
       "    <tr>\n",
       "      <th>75%</th>\n",
       "      <td>30.425000</td>\n",
       "      <td>17.000000</td>\n",
       "      <td>66.000000</td>\n",
       "      <td>7.100000e+02</td>\n",
       "      <td>1.000000e+04</td>\n",
       "      <td>46.570513</td>\n",
       "      <td>14.000000</td>\n",
       "      <td>523.000000</td>\n",
       "      <td>4.000000</td>\n",
       "    </tr>\n",
       "    <tr>\n",
       "      <th>max</th>\n",
       "      <td>100.000000</td>\n",
       "      <td>15155.000000</td>\n",
       "      <td>362.000000</td>\n",
       "      <td>1.600000e+06</td>\n",
       "      <td>1.000000e+09</td>\n",
       "      <td>1677.666667</td>\n",
       "      <td>18.000000</td>\n",
       "      <td>896.000000</td>\n",
       "      <td>5.000000</td>\n",
       "    </tr>\n",
       "  </tbody>\n",
       "</table>\n",
       "</div>"
      ],
      "text/plain": [
       "       Pourcentage Raised  NumberDonors  Duration in days  Amount collected   \\\n",
       "count         1716.000000   1716.000000       1716.000000       1.716000e+03   \n",
       "mean            21.832692     67.204545         55.474359       5.585660e+03   \n",
       "std             32.015606    599.646314         66.171206       6.057841e+04   \n",
       "min              1.000000      0.000000          7.000000       0.000000e+00   \n",
       "25%              1.000000      0.000000         13.000000       0.000000e+00   \n",
       "50%              2.900000      3.000000         35.000000       9.000000e+01   \n",
       "75%             30.425000     17.000000         66.000000       7.100000e+02   \n",
       "max            100.000000  15155.000000        362.000000       1.600000e+06   \n",
       "\n",
       "       Amount targeted  MeanDonation  categoryNumeric  townNumeric  \\\n",
       "count     1.716000e+03   1716.000000      1716.000000  1716.000000   \n",
       "mean      4.186040e+06     37.041797         9.488345   302.850233   \n",
       "std       6.220077e+07     74.725592         5.208021   274.721746   \n",
       "min       1.000000e+00      0.000000         1.000000     1.000000   \n",
       "25%       1.000000e+03      0.000000         5.000000    39.000000   \n",
       "50%       3.000000e+03     20.000000         9.000000   229.000000   \n",
       "75%       1.000000e+04     46.570513        14.000000   523.000000   \n",
       "max       1.000000e+09   1677.666667        18.000000   896.000000   \n",
       "\n",
       "              size  \n",
       "count  1716.000000  \n",
       "mean      2.685897  \n",
       "std       1.251401  \n",
       "min       1.000000  \n",
       "25%       2.000000  \n",
       "50%       3.000000  \n",
       "75%       4.000000  \n",
       "max       5.000000  "
      ]
     },
     "execution_count": 261,
     "metadata": {},
     "output_type": "execute_result"
    }
   ],
   "source": [
    "df.drop(['Unnamed: 0', 'title', 'collect','Description'], axis=1, inplace=True)\n",
    "df.describe()"
   ]
  },
  {
   "cell_type": "markdown",
   "id": "38ff831a",
   "metadata": {},
   "source": [
    "### II.11/ We drop the 5% highest values for each category which contains sometimes fake values "
   ]
  },
  {
   "cell_type": "code",
   "execution_count": 262,
   "id": "452f3d84",
   "metadata": {},
   "outputs": [],
   "source": [
    "df3=df.loc[df['Categorie']==catégorie[-1]]\n",
    "df3=df3.loc[df3['Amount targeted']<df3['Amount targeted'].quantile(0.9)]\n",
    "\n",
    "for i in range(len(catégorie)-1,-1,-1):\n",
    "    df2=df.loc[df['Categorie']==catégorie[i]]\n",
    "\n",
    "    #drop 4th quartile of highest values\n",
    "    df2=df2.loc[df2['Amount targeted']<df2['Amount targeted'].quantile(0.9)]\n",
    "    df3= pd.concat([df2,df3])\n",
    "df=df3.reset_index(drop=True)\n"
   ]
  },
  {
   "cell_type": "markdown",
   "id": "49c7a653",
   "metadata": {},
   "source": [
    "### II.12/ Export cleaned DF for Analyse "
   ]
  },
  {
   "cell_type": "code",
   "execution_count": 263,
   "id": "a0b37c1b",
   "metadata": {
    "scrolled": false
   },
   "outputs": [
    {
     "data": {
      "text/html": [
       "<div>\n",
       "<style scoped>\n",
       "    .dataframe tbody tr th:only-of-type {\n",
       "        vertical-align: middle;\n",
       "    }\n",
       "\n",
       "    .dataframe tbody tr th {\n",
       "        vertical-align: top;\n",
       "    }\n",
       "\n",
       "    .dataframe thead th {\n",
       "        text-align: right;\n",
       "    }\n",
       "</style>\n",
       "<table border=\"1\" class=\"dataframe\">\n",
       "  <thead>\n",
       "    <tr style=\"text-align: right;\">\n",
       "      <th></th>\n",
       "      <th>Pourcentage Raised</th>\n",
       "      <th>NumberDonors</th>\n",
       "      <th>Duration in days</th>\n",
       "      <th>Amount collected</th>\n",
       "      <th>Amount targeted</th>\n",
       "      <th>MeanDonation</th>\n",
       "      <th>categoryNumeric</th>\n",
       "      <th>townNumeric</th>\n",
       "      <th>size</th>\n",
       "    </tr>\n",
       "  </thead>\n",
       "  <tbody>\n",
       "    <tr>\n",
       "      <th>count</th>\n",
       "      <td>1526.000000</td>\n",
       "      <td>1526.000000</td>\n",
       "      <td>1526.000000</td>\n",
       "      <td>1526.000000</td>\n",
       "      <td>1526.000000</td>\n",
       "      <td>1526.000000</td>\n",
       "      <td>1526.000000</td>\n",
       "      <td>1526.000000</td>\n",
       "      <td>1526.000000</td>\n",
       "    </tr>\n",
       "    <tr>\n",
       "      <th>mean</th>\n",
       "      <td>23.035583</td>\n",
       "      <td>23.693316</td>\n",
       "      <td>56.087156</td>\n",
       "      <td>1592.236566</td>\n",
       "      <td>6682.376147</td>\n",
       "      <td>35.685074</td>\n",
       "      <td>9.450197</td>\n",
       "      <td>298.156619</td>\n",
       "      <td>2.447575</td>\n",
       "    </tr>\n",
       "    <tr>\n",
       "      <th>std</th>\n",
       "      <td>32.735071</td>\n",
       "      <td>91.683341</td>\n",
       "      <td>66.161984</td>\n",
       "      <td>7128.795581</td>\n",
       "      <td>14134.901900</td>\n",
       "      <td>73.968712</td>\n",
       "      <td>5.203512</td>\n",
       "      <td>274.453665</td>\n",
       "      <td>1.098227</td>\n",
       "    </tr>\n",
       "    <tr>\n",
       "      <th>min</th>\n",
       "      <td>1.000000</td>\n",
       "      <td>0.000000</td>\n",
       "      <td>7.000000</td>\n",
       "      <td>0.000000</td>\n",
       "      <td>1.000000</td>\n",
       "      <td>0.000000</td>\n",
       "      <td>1.000000</td>\n",
       "      <td>1.000000</td>\n",
       "      <td>1.000000</td>\n",
       "    </tr>\n",
       "    <tr>\n",
       "      <th>25%</th>\n",
       "      <td>1.000000</td>\n",
       "      <td>0.000000</td>\n",
       "      <td>14.000000</td>\n",
       "      <td>0.000000</td>\n",
       "      <td>1000.000000</td>\n",
       "      <td>0.000000</td>\n",
       "      <td>5.000000</td>\n",
       "      <td>39.000000</td>\n",
       "      <td>2.000000</td>\n",
       "    </tr>\n",
       "    <tr>\n",
       "      <th>50%</th>\n",
       "      <td>4.100000</td>\n",
       "      <td>3.000000</td>\n",
       "      <td>36.000000</td>\n",
       "      <td>90.000000</td>\n",
       "      <td>2200.000000</td>\n",
       "      <td>20.000000</td>\n",
       "      <td>9.000000</td>\n",
       "      <td>222.500000</td>\n",
       "      <td>2.000000</td>\n",
       "    </tr>\n",
       "    <tr>\n",
       "      <th>75%</th>\n",
       "      <td>33.300000</td>\n",
       "      <td>15.750000</td>\n",
       "      <td>67.000000</td>\n",
       "      <td>655.000000</td>\n",
       "      <td>6000.000000</td>\n",
       "      <td>45.624041</td>\n",
       "      <td>14.000000</td>\n",
       "      <td>512.000000</td>\n",
       "      <td>3.000000</td>\n",
       "    </tr>\n",
       "    <tr>\n",
       "      <th>max</th>\n",
       "      <td>100.000000</td>\n",
       "      <td>1627.000000</td>\n",
       "      <td>362.000000</td>\n",
       "      <td>115666.000000</td>\n",
       "      <td>200000.000000</td>\n",
       "      <td>1677.666667</td>\n",
       "      <td>18.000000</td>\n",
       "      <td>896.000000</td>\n",
       "      <td>5.000000</td>\n",
       "    </tr>\n",
       "  </tbody>\n",
       "</table>\n",
       "</div>"
      ],
      "text/plain": [
       "       Pourcentage Raised  NumberDonors  Duration in days  Amount collected   \\\n",
       "count         1526.000000   1526.000000       1526.000000        1526.000000   \n",
       "mean            23.035583     23.693316         56.087156        1592.236566   \n",
       "std             32.735071     91.683341         66.161984        7128.795581   \n",
       "min              1.000000      0.000000          7.000000           0.000000   \n",
       "25%              1.000000      0.000000         14.000000           0.000000   \n",
       "50%              4.100000      3.000000         36.000000          90.000000   \n",
       "75%             33.300000     15.750000         67.000000         655.000000   \n",
       "max            100.000000   1627.000000        362.000000      115666.000000   \n",
       "\n",
       "       Amount targeted  MeanDonation  categoryNumeric  townNumeric  \\\n",
       "count      1526.000000   1526.000000      1526.000000  1526.000000   \n",
       "mean       6682.376147     35.685074         9.450197   298.156619   \n",
       "std       14134.901900     73.968712         5.203512   274.453665   \n",
       "min           1.000000      0.000000         1.000000     1.000000   \n",
       "25%        1000.000000      0.000000         5.000000    39.000000   \n",
       "50%        2200.000000     20.000000         9.000000   222.500000   \n",
       "75%        6000.000000     45.624041        14.000000   512.000000   \n",
       "max      200000.000000   1677.666667        18.000000   896.000000   \n",
       "\n",
       "              size  \n",
       "count  1526.000000  \n",
       "mean      2.447575  \n",
       "std       1.098227  \n",
       "min       1.000000  \n",
       "25%       2.000000  \n",
       "50%       2.000000  \n",
       "75%       3.000000  \n",
       "max       5.000000  "
      ]
     },
     "execution_count": 263,
     "metadata": {},
     "output_type": "execute_result"
    }
   ],
   "source": [
    "df.to_csv('datacleaned.csv')\n",
    "df.describe()\n"
   ]
  },
  {
   "cell_type": "code",
   "execution_count": 264,
   "id": "159ce38b",
   "metadata": {},
   "outputs": [
    {
     "data": {
      "text/html": [
       "<div>\n",
       "<style scoped>\n",
       "    .dataframe tbody tr th:only-of-type {\n",
       "        vertical-align: middle;\n",
       "    }\n",
       "\n",
       "    .dataframe tbody tr th {\n",
       "        vertical-align: top;\n",
       "    }\n",
       "\n",
       "    .dataframe thead th {\n",
       "        text-align: right;\n",
       "    }\n",
       "</style>\n",
       "<table border=\"1\" class=\"dataframe\">\n",
       "  <thead>\n",
       "    <tr style=\"text-align: right;\">\n",
       "      <th></th>\n",
       "      <th>Categorie</th>\n",
       "      <th>town</th>\n",
       "      <th>Pourcentage Raised</th>\n",
       "      <th>Creation Date</th>\n",
       "      <th>NumberDonors</th>\n",
       "      <th>Duration in days</th>\n",
       "      <th>Short_description</th>\n",
       "      <th>Amount collected</th>\n",
       "      <th>Amount targeted</th>\n",
       "      <th>MeanDonation</th>\n",
       "      <th>categoryNumeric</th>\n",
       "      <th>townNumeric</th>\n",
       "      <th>size</th>\n",
       "    </tr>\n",
       "  </thead>\n",
       "  <tbody>\n",
       "    <tr>\n",
       "      <th>0</th>\n",
       "      <td>Medical, Illness &amp; Healing</td>\n",
       "      <td>Vincennes</td>\n",
       "      <td>44.5</td>\n",
       "      <td>2022-01-18</td>\n",
       "      <td>100</td>\n",
       "      <td>13</td>\n",
       "      <td>[connaissez, d'Instagram, cette, plateforme, d...</td>\n",
       "      <td>2225.0</td>\n",
       "      <td>5000.0</td>\n",
       "      <td>22.250000</td>\n",
       "      <td>1</td>\n",
       "      <td>1</td>\n",
       "      <td>3</td>\n",
       "    </tr>\n",
       "    <tr>\n",
       "      <th>1</th>\n",
       "      <td>Medical, Illness &amp; Healing</td>\n",
       "      <td>Paris</td>\n",
       "      <td>5.1</td>\n",
       "      <td>2022-01-23</td>\n",
       "      <td>29</td>\n",
       "      <td>8</td>\n",
       "      <td>[Hellohope, doing, greati, Hossam, morocco, ye...</td>\n",
       "      <td>506.0</td>\n",
       "      <td>10000.0</td>\n",
       "      <td>17.448276</td>\n",
       "      <td>1</td>\n",
       "      <td>2</td>\n",
       "      <td>4</td>\n",
       "    </tr>\n",
       "    <tr>\n",
       "      <th>2</th>\n",
       "      <td>Medical, Illness &amp; Healing</td>\n",
       "      <td>Metz</td>\n",
       "      <td>100.0</td>\n",
       "      <td>2022-01-11</td>\n",
       "      <td>139</td>\n",
       "      <td>20</td>\n",
       "      <td>[support, needed, years, coma.She, hospitalize...</td>\n",
       "      <td>6345.0</td>\n",
       "      <td>1.0</td>\n",
       "      <td>45.647482</td>\n",
       "      <td>1</td>\n",
       "      <td>3</td>\n",
       "      <td>1</td>\n",
       "    </tr>\n",
       "    <tr>\n",
       "      <th>3</th>\n",
       "      <td>Medical, Illness &amp; Healing</td>\n",
       "      <td>Évreux</td>\n",
       "      <td>48.9</td>\n",
       "      <td>2021-12-06</td>\n",
       "      <td>126</td>\n",
       "      <td>56</td>\n",
       "      <td>[Chers, actuellement, visite, semaine, dernièr...</td>\n",
       "      <td>4889.0</td>\n",
       "      <td>10000.0</td>\n",
       "      <td>38.801587</td>\n",
       "      <td>1</td>\n",
       "      <td>5</td>\n",
       "      <td>4</td>\n",
       "    </tr>\n",
       "    <tr>\n",
       "      <th>4</th>\n",
       "      <td>Medical, Illness &amp; Healing</td>\n",
       "      <td></td>\n",
       "      <td>100.0</td>\n",
       "      <td>2021-12-16</td>\n",
       "      <td>126</td>\n",
       "      <td>46</td>\n",
       "      <td>[Bonjour, Notre, Andreas, atteint, sclérose, l...</td>\n",
       "      <td>20150.0</td>\n",
       "      <td>20000.0</td>\n",
       "      <td>159.920635</td>\n",
       "      <td>1</td>\n",
       "      <td>6</td>\n",
       "      <td>4</td>\n",
       "    </tr>\n",
       "    <tr>\n",
       "      <th>...</th>\n",
       "      <td>...</td>\n",
       "      <td>...</td>\n",
       "      <td>...</td>\n",
       "      <td>...</td>\n",
       "      <td>...</td>\n",
       "      <td>...</td>\n",
       "      <td>...</td>\n",
       "      <td>...</td>\n",
       "      <td>...</td>\n",
       "      <td>...</td>\n",
       "      <td>...</td>\n",
       "      <td>...</td>\n",
       "      <td>...</td>\n",
       "    </tr>\n",
       "    <tr>\n",
       "      <th>1521</th>\n",
       "      <td>Dreams, Hopes &amp; Wishes</td>\n",
       "      <td>Sciecq</td>\n",
       "      <td>1.0</td>\n",
       "      <td>2022-01-22</td>\n",
       "      <td>0</td>\n",
       "      <td>9</td>\n",
       "      <td>[Bonjour, m'appelle, Clément, recherche, matér...</td>\n",
       "      <td>0.0</td>\n",
       "      <td>100.0</td>\n",
       "      <td>0.000000</td>\n",
       "      <td>18</td>\n",
       "      <td>384</td>\n",
       "      <td>1</td>\n",
       "    </tr>\n",
       "    <tr>\n",
       "      <th>1522</th>\n",
       "      <td>Dreams, Hopes &amp; Wishes</td>\n",
       "      <td>La Chapelle-du-Noyer</td>\n",
       "      <td>1.0</td>\n",
       "      <td>2022-01-22</td>\n",
       "      <td>0</td>\n",
       "      <td>9</td>\n",
       "      <td>[Rafale, zaaaaaaaaaaaahhhhhJe, c'est, prévu, v...</td>\n",
       "      <td>0.0</td>\n",
       "      <td>990.0</td>\n",
       "      <td>0.000000</td>\n",
       "      <td>18</td>\n",
       "      <td>894</td>\n",
       "      <td>1</td>\n",
       "    </tr>\n",
       "    <tr>\n",
       "      <th>1523</th>\n",
       "      <td>Dreams, Hopes &amp; Wishes</td>\n",
       "      <td>Gaillac-d'Aveyron</td>\n",
       "      <td>1.0</td>\n",
       "      <td>2022-01-21</td>\n",
       "      <td>0</td>\n",
       "      <td>10</td>\n",
       "      <td>[Bonjour, m'appelle, trottein, marine, souhait...</td>\n",
       "      <td>0.0</td>\n",
       "      <td>3000.0</td>\n",
       "      <td>0.000000</td>\n",
       "      <td>18</td>\n",
       "      <td>895</td>\n",
       "      <td>3</td>\n",
       "    </tr>\n",
       "    <tr>\n",
       "      <th>1524</th>\n",
       "      <td>Dreams, Hopes &amp; Wishes</td>\n",
       "      <td>Le Bignon</td>\n",
       "      <td>1.0</td>\n",
       "      <td>2022-01-20</td>\n",
       "      <td>0</td>\n",
       "      <td>11</td>\n",
       "      <td>[Bonjour, m'appelle, Margot, demande, assez, s...</td>\n",
       "      <td>0.0</td>\n",
       "      <td>500.0</td>\n",
       "      <td>0.000000</td>\n",
       "      <td>18</td>\n",
       "      <td>896</td>\n",
       "      <td>1</td>\n",
       "    </tr>\n",
       "    <tr>\n",
       "      <th>1525</th>\n",
       "      <td>Dreams, Hopes &amp; Wishes</td>\n",
       "      <td>Nantes</td>\n",
       "      <td>1.0</td>\n",
       "      <td>2022-01-20</td>\n",
       "      <td>0</td>\n",
       "      <td>11</td>\n",
       "      <td>[necesita, iPhone, jelpHHHHHHHHHHHHHHHHHHHHHHR...</td>\n",
       "      <td>0.0</td>\n",
       "      <td>990.0</td>\n",
       "      <td>0.000000</td>\n",
       "      <td>18</td>\n",
       "      <td>37</td>\n",
       "      <td>1</td>\n",
       "    </tr>\n",
       "  </tbody>\n",
       "</table>\n",
       "<p>1526 rows × 13 columns</p>\n",
       "</div>"
      ],
      "text/plain": [
       "                       Categorie                  town  Pourcentage Raised  \\\n",
       "0     Medical, Illness & Healing             Vincennes                44.5   \n",
       "1     Medical, Illness & Healing                 Paris                 5.1   \n",
       "2     Medical, Illness & Healing                  Metz               100.0   \n",
       "3     Medical, Illness & Healing                Évreux                48.9   \n",
       "4     Medical, Illness & Healing                                     100.0   \n",
       "...                          ...                   ...                 ...   \n",
       "1521      Dreams, Hopes & Wishes                Sciecq                 1.0   \n",
       "1522      Dreams, Hopes & Wishes  La Chapelle-du-Noyer                 1.0   \n",
       "1523      Dreams, Hopes & Wishes     Gaillac-d'Aveyron                 1.0   \n",
       "1524      Dreams, Hopes & Wishes             Le Bignon                 1.0   \n",
       "1525      Dreams, Hopes & Wishes                Nantes                 1.0   \n",
       "\n",
       "     Creation Date  NumberDonors  Duration in days  \\\n",
       "0       2022-01-18           100                13   \n",
       "1       2022-01-23            29                 8   \n",
       "2       2022-01-11           139                20   \n",
       "3       2021-12-06           126                56   \n",
       "4       2021-12-16           126                46   \n",
       "...            ...           ...               ...   \n",
       "1521    2022-01-22             0                 9   \n",
       "1522    2022-01-22             0                 9   \n",
       "1523    2022-01-21             0                10   \n",
       "1524    2022-01-20             0                11   \n",
       "1525    2022-01-20             0                11   \n",
       "\n",
       "                                      Short_description  Amount collected   \\\n",
       "0     [connaissez, d'Instagram, cette, plateforme, d...             2225.0   \n",
       "1     [Hellohope, doing, greati, Hossam, morocco, ye...              506.0   \n",
       "2     [support, needed, years, coma.She, hospitalize...             6345.0   \n",
       "3     [Chers, actuellement, visite, semaine, dernièr...             4889.0   \n",
       "4     [Bonjour, Notre, Andreas, atteint, sclérose, l...            20150.0   \n",
       "...                                                 ...                ...   \n",
       "1521  [Bonjour, m'appelle, Clément, recherche, matér...                0.0   \n",
       "1522  [Rafale, zaaaaaaaaaaaahhhhhJe, c'est, prévu, v...                0.0   \n",
       "1523  [Bonjour, m'appelle, trottein, marine, souhait...                0.0   \n",
       "1524  [Bonjour, m'appelle, Margot, demande, assez, s...                0.0   \n",
       "1525  [necesita, iPhone, jelpHHHHHHHHHHHHHHHHHHHHHHR...                0.0   \n",
       "\n",
       "      Amount targeted  MeanDonation  categoryNumeric  townNumeric  size  \n",
       "0              5000.0     22.250000                1            1     3  \n",
       "1             10000.0     17.448276                1            2     4  \n",
       "2                 1.0     45.647482                1            3     1  \n",
       "3             10000.0     38.801587                1            5     4  \n",
       "4             20000.0    159.920635                1            6     4  \n",
       "...               ...           ...              ...          ...   ...  \n",
       "1521            100.0      0.000000               18          384     1  \n",
       "1522            990.0      0.000000               18          894     1  \n",
       "1523           3000.0      0.000000               18          895     3  \n",
       "1524            500.0      0.000000               18          896     1  \n",
       "1525            990.0      0.000000               18           37     1  \n",
       "\n",
       "[1526 rows x 13 columns]"
      ]
     },
     "execution_count": 264,
     "metadata": {},
     "output_type": "execute_result"
    }
   ],
   "source": [
    "df"
   ]
  },
  {
   "cell_type": "code",
   "execution_count": null,
   "id": "579c12a7",
   "metadata": {},
   "outputs": [],
   "source": []
  }
 ],
 "metadata": {
  "celltoolbar": "Aucun(e)",
  "kernelspec": {
   "display_name": "Python 3",
   "language": "python",
   "name": "python3"
  },
  "language_info": {
   "codemirror_mode": {
    "name": "ipython",
    "version": 3
   },
   "file_extension": ".py",
   "mimetype": "text/x-python",
   "name": "python",
   "nbconvert_exporter": "python",
   "pygments_lexer": "ipython3",
   "version": "3.8.8"
  }
 },
 "nbformat": 4,
 "nbformat_minor": 5
}
