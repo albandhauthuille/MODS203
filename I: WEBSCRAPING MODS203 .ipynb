{
 "cells": [
  {
   "cell_type": "code",
   "execution_count": 17,
   "id": "8b910d53-e7bd-4d1d-8b86-e7192c04f458",
   "metadata": {
    "scrolled": true
   },
   "outputs": [],
   "source": [
    "#Useful imports \n",
    "import time\n",
    "time_duration = 0.5\n",
    "import requests\n",
    "from bs4 import BeautifulSoup\n",
    "\n",
    "import pandas as pd\n",
    "\n",
    "import numpy as np\n",
    "\n",
    "import matplotlib.pyplot as plt"
   ]
  },
  {
   "cell_type": "markdown",
   "id": "c51b023f",
   "metadata": {},
   "source": [
    "## I/ COLLECTING DATA"
   ]
  },
  {
   "cell_type": "code",
   "execution_count": 18,
   "id": "3a9fa642-e512-480c-b018-71b9e70cb531",
   "metadata": {
    "scrolled": true
   },
   "outputs": [],
   "source": [
    "#We import selenium driver\n",
    "from selenium import webdriver\n",
    "from selenium.webdriver.chrome.options import Options\n",
    "\n",
    "options = Options()\n",
    "options.add_argument(\"--window-size=1920x1080\")\n",
    "options.add_argument(\"--verbose\")\n",
    "options.add_argument('-no-sandbox')\n",
    "options.add_argument('-headless')\n",
    "\n",
    "\n",
    "\n",
    "from selenium.webdriver.common.by import By\n",
    "\n",
    "driver = webdriver.Chrome(options=options,)\n",
    "from selenium.webdriver.support.ui import WebDriverWait\n",
    "from selenium.webdriver.support import expected_conditions as EC\n",
    "\n"
   ]
  },
  {
   "cell_type": "markdown",
   "id": "d4d8d325",
   "metadata": {},
   "source": [
    "### I.1/We list all the categories of collects "
   ]
  },
  {
   "cell_type": "code",
   "execution_count": 19,
   "id": "39e0b96b",
   "metadata": {
    "scrolled": true
   },
   "outputs": [
    {
     "data": {
      "text/plain": [
       "['medical-fundraiser',\n",
       " 'memorial-fundraiser',\n",
       " 'emergency-fundraiser',\n",
       " 'charity-fundraiser',\n",
       " 'education-fundraiser',\n",
       " 'animal-fundraiser',\n",
       " 'environment-fundraiser',\n",
       " 'business-fundraiser',\n",
       " 'community-fundraiser',\n",
       " 'competition-fundraiser',\n",
       " 'creative-fundraiser',\n",
       " 'event-fundraiser',\n",
       " 'faith-fundraiser',\n",
       " 'family-fundraiser',\n",
       " 'sports-fundraiser',\n",
       " 'travel-fundraiser',\n",
       " 'volunteer-fundraiser',\n",
       " 'wishes-fundraiser']"
      ]
     },
     "execution_count": 19,
     "metadata": {},
     "output_type": "execute_result"
    }
   ],
   "source": [
    "#To achieve this, we go on the homepage of gofundme and find the proper soup\n",
    "\n",
    "r = requests.get('https://www.gofundme.com/fr-fr')\n",
    "html = r.text\n",
    "soup = BeautifulSoup(html, 'html.parser')\n",
    "a = soup.find_all('a',class_='section-categories-icon cell text-center')\n",
    "Categories = []\n",
    "for link in a:\n",
    "    carac = link.get('href')\n",
    "    if carac[7]==\"s\":\n",
    "        Categories.append(carac[13:])\n",
    "    elif carac[7]== 'd':\n",
    "        Categories.append(carac[16:])\n",
    "    #Page_Links.append(link.get('href'))\n",
    "    #print(link.get('href'))\n",
    "    #print(a.get('href'))\n",
    "for i in range(len(Categories)):\n",
    "    Categories[i] = Categories[i].replace('fundraising','fundraiser')\n",
    "Categories\n",
    "\n",
    "#print(len(Page_Links))"
   ]
  },
  {
   "cell_type": "markdown",
   "id": "0c083bf1",
   "metadata": {},
   "source": [
    "### I.2.1/ Collecting name, amount collected, url and town using Selenium on each category's homepage </b>\n",
    "\n",
    "#### We use Selenium and BeautifulSoup in this section because we have to click on a button 'More projects'"
   ]
  },
  {
   "cell_type": "code",
   "execution_count": 20,
   "id": "aae60279",
   "metadata": {
    "scrolled": false
   },
   "outputs": [],
   "source": [
    "data_name = []\n",
    "data_collect = []\n",
    "data_links = []\n",
    "data_town = []\n",
    "\n",
    "### FOR EACH CATEGORY, WE GO ON ITS HOMEPAGE\n",
    "for i in range (len(Categories)):\n",
    "    \n",
    "    l = \"https\" + \":\"+\"//www.gofundme.com/discover/\" + Categories[i]\n",
    "    driver=webdriver.Chrome('chromedriver',options=options)\n",
    "    driver.get(l)\n",
    "    \n",
    "    #Each click on the button \"more\" add 12 projects, \n",
    "    #we click 8 times per categories to have 1728 projects in total\n",
    "    ButtonMore=driver.find_element(By.CSS_SELECTOR,\"div.text-center\")\n",
    "    for i in range(8):\n",
    "        time.sleep(1.1)\n",
    "        ButtonMore.click()\n",
    "   \n",
    "    \n",
    "\n",
    "    soup = BeautifulSoup(driver.page_source, 'html.parser')\n",
    "    \n",
    "    \n",
    "    #AmountCollected and Name \n",
    "    a = soup.findAll('div',class_=\"campaign-tile-img--contain js-lazy\")\n",
    "    collect = soup.findAll('div',class_=\"show-for-medium\")\n",
    "    for text in a:\n",
    "        data_name.append(text.get('aria-labelledby'))\n",
    "    for m in range (1,len(collect)+1,2):\n",
    "        money = collect[m].get_text()\n",
    "        data_collect.append(money[1:])\n",
    "    \n",
    "    #Links\n",
    "    Links = soup.findAll('a',class_='fund_tile_card_link')\n",
    "    for link in Links:\n",
    "        data_links.append(link.get('href'))\n",
    "\n",
    "    #Town \n",
    "    Town = soup.findAll('div',class_=\"fund-item fund-location truncate-single-line\")\n",
    "    for town in Town:\n",
    "        ville = town.find('span',class_=\"\")\n",
    "        data_town.append(ville.get_text())\n",
    "\n",
    "        \n",
    "        \n",
    "###Cleaning text\n",
    "for i in range (len(data_collect)):\n",
    "    data_collect[i] = data_collect[i].replace('\\xa0','')\n",
    "\n",
    "for i in range(len(data_name)):\n",
    "    data_name[i] = data_name[i].replace('-',' ')   "
   ]
  },
  {
   "cell_type": "code",
   "execution_count": 21,
   "id": "35bc89b8",
   "metadata": {
    "scrolled": true
   },
   "outputs": [
    {
     "name": "stdout",
     "output_type": "stream",
     "text": [
      "1716\n",
      "1716\n",
      "1716\n",
      "1716\n"
     ]
    }
   ],
   "source": [
    "print(len(data_collect))\n",
    "print(len(data_links))\n",
    "print(len(data_name))\n",
    "print(len(data_town))"
   ]
  },
  {
   "cell_type": "markdown",
   "id": "99248445",
   "metadata": {},
   "source": [
    "###  I.2.2/Collecting Pourcentage of target collected, date creation, category </b>\n",
    "\n",
    "#### Now that we have the link of each project, we go on each's specific webpage to collect more features with BeautifulSoup"
   ]
  },
  {
   "cell_type": "code",
   "execution_count": null,
   "id": "31407518",
   "metadata": {
    "scrolled": false
   },
   "outputs": [],
   "source": [
    "Cat = []\n",
    "Pourcentage_Raised = []\n",
    "Creation_date = []\n",
    "Description = []\n",
    "NumbersOfDonors=[]\n",
    "\n",
    "\n",
    "### FOR EACH PROJECT, WE GO ON ITS OWN PAGE\n",
    "for e in data_links :\n",
    "    r = requests.get(e)\n",
    "    html = r.text\n",
    "    soup = BeautifulSoup(html, 'html.parser')\n",
    "    \n",
    "    #Category\n",
    "    a = soup.find('a',class_='m-campaign-byline-type divider-prefix meta-divider flex-container align-center color-dark-gray hrt-tertiary-button hrt-base-button hrt-link hrt-link--gray-dark hrt-link--unstyled')\n",
    "    if not a:\n",
    "        Cat.append('None')\n",
    "    else:\n",
    "        cat = a.get_text()\n",
    "        Cat.append(cat)\n",
    "    \n",
    "    #Progress\n",
    "    progress = soup.find('progress',class_='a-progress-bar a-progress-bar--green')\n",
    "    if not progress:\n",
    "        Pourcentage_Raised.append(\"None\")\n",
    "    else:\n",
    "        pourcentage_funding = progress.get('value')\n",
    "        pourcentage_funding_float = round(float(pourcentage_funding),1)\n",
    "        if (pourcentage_funding_float > 100) : \n",
    "          pourcentage_funding_float = 100 \n",
    "        Pourcentage_Raised.append(pourcentage_funding_float)\n",
    "   \n",
    "    #Date of Creation\n",
    "    orga = soup.find('span',class_='m-campaign-byline-created a-created-date')\n",
    "    if not orga:\n",
    "        Creation_date.append('None')\n",
    "    else:\n",
    "        Creation_date.append(orga.get_text())\n",
    "    \n",
    "    #Descritpion\n",
    "    a = soup.find('div',class_=\"o-campaign-description\")\n",
    "    description=''\n",
    "    if not a:\n",
    "        Description.append('None')\n",
    "    else:\n",
    "        for x in a:\n",
    "            text= x.get_text()\n",
    "            description += text\n",
    "        description  = description.replace('\\n','')\n",
    "        description  = description.replace('\\xa0','')\n",
    "        Description.append(description)\n",
    "    \n",
    "    #Number of donors \n",
    "    a = soup.findAll('script')\n",
    "    b = str(a)\n",
    "    indice = b.index('donation_count') \n",
    "    i=0\n",
    "    stringNumber = ''\n",
    "    while b[indice + 16+i] != \",\":\n",
    "        localNumber = b[indice+16+i]\n",
    "        stringNumber += localNumber\n",
    "        i = i+1\n",
    "    NumbersOfDonors.append(int(stringNumber))"
   ]
  },
  {
   "cell_type": "markdown",
   "id": "cf6219e2",
   "metadata": {},
   "source": [
    "###  I.3.1/Gathering in one DF"
   ]
  },
  {
   "cell_type": "code",
   "execution_count": null,
   "id": "3741e03f",
   "metadata": {
    "scrolled": true
   },
   "outputs": [],
   "source": [
    "data_final = []\n",
    "for i in range(len(data_links)):\n",
    "    data_final.append({\n",
    "        'title' : data_name[i],\n",
    "        'Categorie' : Cat[i],\n",
    "        'collect': data_collect[i],\n",
    "        'town': data_town[i],\n",
    "        'Pourcentage Raised' : str(Pourcentage_Raised[i]) + \"%\",\n",
    "        'Creation Date' : Creation_date[i],\n",
    "        'Description' : Description[i],\n",
    "        'NumberDonors' : NumbersOfDonors[i]\n",
    "         \n",
    "        \n",
    "    })"
   ]
  },
  {
   "cell_type": "code",
   "execution_count": null,
   "id": "80272861",
   "metadata": {
    "scrolled": false
   },
   "outputs": [],
   "source": [
    "df= pd.DataFrame(data_final)\n",
    "df"
   ]
  },
  {
   "cell_type": "markdown",
   "id": "c70deb96",
   "metadata": {},
   "source": [
    "### I.3.2/ Export in csv to clean (II) and analyse (III)"
   ]
  },
  {
   "cell_type": "code",
   "execution_count": null,
   "id": "1cdd23d8",
   "metadata": {
    "scrolled": true
   },
   "outputs": [],
   "source": [
    "#Export\n",
    "df.to_csv(\"DataFinalfromWebScraping2.csv\")"
   ]
  }
 ],
 "metadata": {
  "celltoolbar": "Aucun(e)",
  "kernelspec": {
   "display_name": "Python 3",
   "language": "python",
   "name": "python3"
  },
  "language_info": {
   "codemirror_mode": {
    "name": "ipython",
    "version": 3
   },
   "file_extension": ".py",
   "mimetype": "text/x-python",
   "name": "python",
   "nbconvert_exporter": "python",
   "pygments_lexer": "ipython3",
   "version": "3.8.8"
  }
 },
 "nbformat": 4,
 "nbformat_minor": 5
}
